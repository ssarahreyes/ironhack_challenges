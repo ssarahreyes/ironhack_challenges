{
 "cells": [
  {
   "cell_type": "markdown",
   "metadata": {},
   "source": [
    "# KATA - Saturday\n",
    "---"
   ]
  },
  {
   "cell_type": "markdown",
   "metadata": {},
   "source": [
    "### Kata 1"
   ]
  },
  {
   "cell_type": "markdown",
   "metadata": {},
   "source": [
    "link: https://www.codewars.com/kata/5700af83d1acef83fd000048/train/python"
   ]
  },
  {
   "cell_type": "code",
   "execution_count": 3,
   "metadata": {},
   "outputs": [],
   "source": [
    "# find the infected\n",
    "\n",
    "def find_virus(apple):\n",
    "    \n",
    "    rows = len(apple)\n",
    "    columns = len(apple[0])\n",
    "    infected_cells = []\n",
    "    \n",
    "    for row in range(rows):\n",
    "        for column in range(columns):\n",
    "            if apple[row][column] == 'V':\n",
    "                infected_cells.append([row, column])\n",
    "    \n",
    "    return infected_cells"
   ]
  },
  {
   "cell_type": "code",
   "execution_count": 8,
   "metadata": {},
   "outputs": [],
   "source": [
    "# infect the adjacent cells\n",
    "\n",
    "def infect_apple(apple, n):\n",
    "    \n",
    "    for i in range(n):\n",
    "        infected_cells = find_virus(apple)\n",
    "        \n",
    "        for virus in infected_cells:\n",
    "            adjacent_cells = [[-1, 0], [+1, 0], [0, +1], [0,-1]]\n",
    "            for k in adjacent_cells:\n",
    "                try:\n",
    "                    x = virus[0]+k[0]\n",
    "                    y = virus[1] + k[1]\n",
    "                    if x>= 0 and y >= 0:\n",
    "                        apple[x][y] = 'V'\n",
    "                except:\n",
    "                    pass\n",
    "                                    \n",
    "    return apple"
   ]
  },
  {
   "cell_type": "code",
   "execution_count": 11,
   "metadata": {},
   "outputs": [
    {
     "data": {
      "text/plain": [
       "[['V', 'V', 'A', 'A', 'A'],\n",
       " ['V', 'V', 'V', 'A', 'A'],\n",
       " ['V', 'V', 'A', 'A', 'A'],\n",
       " ['V', 'A', 'A', 'A', 'A'],\n",
       " ['A', 'A', 'A', 'A', 'A']]"
      ]
     },
     "execution_count": 11,
     "metadata": {},
     "output_type": "execute_result"
    }
   ],
   "source": [
    "apple=[[\"A\",\"A\",\"A\",\"A\",\"A\"],\n",
    "       [\"V\",\"A\",\"A\",\"A\",\"A\"],\n",
    "       [\"A\",\"A\",\"A\",\"A\",\"A\"],\n",
    "       [\"A\",\"A\",\"A\",\"A\",\"A\"],\n",
    "       [\"A\",\"A\",\"A\",\"A\",\"A\"]]\n",
    "\n",
    "infect_apple(apple, 2)"
   ]
  },
  {
   "cell_type": "code",
   "execution_count": 12,
   "metadata": {},
   "outputs": [],
   "source": [
    "\n",
    "# BEST SOLUTION IN CODEWARS:\n",
    "\n",
    "def infect_apple_codewars(apple, n):\n",
    "    \n",
    "    A = {(r, c):v for r, row in enumerate(apple) for c, v in enumerate(row)}\n",
    "\n",
    "    for _ in range(n):\n",
    "        for n in {(r, c) for r, c in A if any(A.get((r+rr, c+cc), '') == 'V' for rr, cc in [(1, 0), (-1, 0), (0, 1), (0,-1)])}:\n",
    "            A[n] = 'V'\n",
    "        \n",
    "    return [[A[(r, c)] for c in range(len(apple[0]))] for r in range(len(apple))]\n"
   ]
  },
  {
   "cell_type": "markdown",
   "metadata": {},
   "source": [
    "### Kata 2"
   ]
  },
  {
   "cell_type": "markdown",
   "metadata": {},
   "source": [
    "#### Playing with classes! \n",
    "Add your juicy functions to this Apple class. \n",
    "\n",
    "The class has already been created for you. It has an infect method you can use to infect your apple randomly.\n",
    "\n",
    "Goal: Add your infect_apple() function to the Apple class so it behaves like any other method. Remember to add \"self\" whenever it is needed."
   ]
  },
  {
   "cell_type": "code",
   "execution_count": 15,
   "metadata": {},
   "outputs": [],
   "source": [
    "import random\n",
    "\n",
    "class Apple(object):\n",
    "    \"\"\"\n",
    "    It's a juicy and healthy apple!\n",
    "    \"\"\"\n",
    "    \n",
    "    def __init__(self, d=5, cell=\"·\"):\n",
    "        \"\"\"\n",
    "        Create an apple object.\n",
    "        \n",
    "        Parameters:\n",
    "            d: Integer. Apple's dimension.\n",
    "            cell = String. Individual cell graphic representation. \n",
    "            \n",
    "        Attributes:\n",
    "            rows, cols and apple set the apple's dimension. \n",
    "            For example, if d is set to 3 and cell's argument is \"·\", \n",
    "            your apple will look like this:\n",
    "            [['·', '·', '·'], \n",
    "             ['·', '·', '·'], \n",
    "             ['·', '·', '·']]\n",
    "        \"\"\"\n",
    "        \n",
    "        self.rows = d\n",
    "        self.cols = d\n",
    "        self.cell = cell\n",
    "        self.apple = [[cell]*d for x in range(d)]\n",
    "    \n",
    "    def infect(self, amount=1):\n",
    "        \"\"\"\n",
    "        Infect the apple randomnly.\n",
    "        \n",
    "        Parameters:\n",
    "            amount: Integer. Number of viruses to be added randomnly.\n",
    "        \n",
    "        Returns:\n",
    "            None. Infects the apple. \n",
    "        \"\"\"\n",
    "        \n",
    "        for a in range(amount):\n",
    "            # New virus.\n",
    "            virus = [random.randint(0,self.rows-1), random.randint(0,self.cols-1)]\n",
    "\n",
    "            # Infect apple.\n",
    "            self.apple[virus[0]][virus[1]] = \"V\"\n",
    "            \n",
    "    def __find_virus(self):\n",
    "    \n",
    "        A = {(r, c):v for r, row in enumerate(apple) for c, v in enumerate(row)}\n",
    "\n",
    "        for _ in range(n):\n",
    "            for n in {(r, c) for r, c in A if any(A.get((r+rr, c+cc), '') == 'V' for rr, cc in [(1, 0), (-1, 0), (0, 1), (0,-1)])}: A[n] = 'V'\n",
    "        \n",
    "        return [[A[(r, c)] for c in range(len(apple[0]))] for r in range(len(apple))]\n",
    "\n",
    "\n",
    "\n",
    "\n",
    "    "
   ]
  },
  {
   "cell_type": "code",
   "execution_count": 16,
   "metadata": {},
   "outputs": [],
   "source": [
    "my_apple = Apple()"
   ]
  },
  {
   "cell_type": "code",
   "execution_count": 17,
   "metadata": {},
   "outputs": [
    {
     "data": {
      "text/plain": [
       "[['·', '·', '·', '·', '·'],\n",
       " ['·', '·', '·', '·', '·'],\n",
       " ['·', '·', '·', '·', '·'],\n",
       " ['·', '·', '·', '·', '·'],\n",
       " ['·', '·', '·', '·', '·']]"
      ]
     },
     "execution_count": 17,
     "metadata": {},
     "output_type": "execute_result"
    }
   ],
   "source": [
    "my_apple.apple"
   ]
  },
  {
   "cell_type": "code",
   "execution_count": 18,
   "metadata": {},
   "outputs": [],
   "source": [
    "my_apple.infect(1)"
   ]
  },
  {
   "cell_type": "code",
   "execution_count": 19,
   "metadata": {},
   "outputs": [
    {
     "data": {
      "text/plain": [
       "[['·', '·', '·', '·', '·'],\n",
       " ['·', '·', '·', '·', '·'],\n",
       " ['V', '·', '·', '·', '·'],\n",
       " ['·', '·', '·', '·', '·'],\n",
       " ['·', '·', '·', '·', '·']]"
      ]
     },
     "execution_count": 19,
     "metadata": {},
     "output_type": "execute_result"
    }
   ],
   "source": [
    "my_apple.apple"
   ]
  },
  {
   "cell_type": "code",
   "execution_count": null,
   "metadata": {},
   "outputs": [],
   "source": []
  }
 ],
 "metadata": {
  "kernelspec": {
   "display_name": "Python [conda env:ironhack_env]",
   "language": "python",
   "name": "conda-env-ironhack_env-py"
  },
  "language_info": {
   "codemirror_mode": {
    "name": "ipython",
    "version": 3
   },
   "file_extension": ".py",
   "mimetype": "text/x-python",
   "name": "python",
   "nbconvert_exporter": "python",
   "pygments_lexer": "ipython3",
   "version": "3.8.5"
  }
 },
 "nbformat": 4,
 "nbformat_minor": 4
}
