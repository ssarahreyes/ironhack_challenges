{
 "cells": [
  {
   "cell_type": "markdown",
   "metadata": {},
   "source": [
    "# KATA - Saturday"
   ]
  },
  {
   "cell_type": "markdown",
   "metadata": {},
   "source": [
    "Magic The Gathering is a collectible card game that features wizards battling against each other with spells and creature summons. The game itself can be quite complicated to learn. In this series of katas, we'll be solving some of the situations that arise during gameplay. You won't need any prior knowledge of the game to solve these contrived problems, as I will provide you with enough information.\n",
    "\n",
    "Creatures\n",
    "Each creature has a power and toughness. We will represent this in an array. [2, 3] means this creature has a power of 2 and a toughness of 3.\n",
    "\n",
    "When two creatures square off, they each deal damage equal to their power to each other at the same time. If a creature takes on damage greater than or equal to their toughness, they die.\n",
    "\n",
    "Examples:\n",
    "\n",
    "Creature 1 - [2, 3]\n",
    "Creature 2 - [3, 3]\n",
    "Creature 3 - [1, 4]\n",
    "Creature 4 - [4, 1]\n",
    "If creature 1 battles creature 2, creature 1 dies, while 2 survives. If creature 3 battles creature 4, they both die, as 3 deals 1 damage to 4, but creature 4 only has a toughness of 1.\n",
    "\n",
    "Write a function battle(player1, player2) that takes in 2 arrays of creatures. Each players' creatures battle each other in order (player1[0] battles the creature in player2[0]) and so on. If one list of creatures is longer than the other, those creatures are considered unblocked, and do not battle.\n",
    "\n",
    "Your function should return an object (a hash in Ruby) with the keys player1 and player2 that contain the power and toughness of the surviving creatures.\n",
    "\n",
    "Example:\n",
    "\n",
    "player1 = [[1, 1], [2, 1], [2, 2], [5, 5]];\n",
    "player2 = [[1, 2], [1, 2], [3, 3]];\n",
    "battle(player1, player2) ->\n",
    "{ 'player1': [[5, 5]],\n",
    "  'player2': [[1, 2], [3, 3]] }\n",
    "player1 = [[1, 1], [2, 1], [2, 2], [5, 5]]\n",
    "player2 = [[1, 2], [1, 2], [3, 3]]\n",
    "battle(player1, player2) # { 'player1': [[5, 5]], 'player2': [[1, 2], [3, 3]] }\n",
    "player1 = [[1, 1], [2, 1], [2, 2], [5, 5]];\n",
    "player2 = [[1, 2], [1, 2], [3, 3]];\n",
    "battle(player1, player2) # { player1: [[5, 5]], player2: [[1, 2], [3, 3]] }"
   ]
  },
  {
   "cell_type": "code",
   "execution_count": 80,
   "metadata": {},
   "outputs": [],
   "source": [
    "player1 = [[1, 1], [2, 1], [2, 2], [5, 5]]\n",
    "player2 = [[1, 2], [1, 2], [3, 3]]"
   ]
  },
  {
   "cell_type": "code",
   "execution_count": 81,
   "metadata": {},
   "outputs": [],
   "source": [
    "def battle(player1, player2):\n",
    "    \n",
    "    players_dict = {'player1': [], 'player2': []}\n",
    "    \n",
    "    player2_result = []\n",
    "    player1_result = []\n",
    "    \n",
    "    min_len = len(player1) if len(player1) < len(player2) else len(player2)\n",
    "    \n",
    "    for i in range(min_len):\n",
    "    \n",
    "        if player1[i][0] < player2[i][1]:\n",
    "            players_dict['player2'].append(player2[i])\n",
    "            \n",
    "        if player1[i][1] > player2[i][0]:\n",
    "            players_dict['player1'].append(player1[i])\n",
    "        \n",
    "    \n",
    "    players_dict['player1'] = player1[min_len:]\n",
    "    \n",
    "    return players_dict"
   ]
  },
  {
   "cell_type": "code",
   "execution_count": 82,
   "metadata": {},
   "outputs": [
    {
     "data": {
      "text/plain": [
       "{'player1': [[5, 5]], 'player2': [[1, 2], [3, 3]]}"
      ]
     },
     "execution_count": 82,
     "metadata": {},
     "output_type": "execute_result"
    }
   ],
   "source": [
    "battle(player1, player2) # should return -> {'player1': [[5, 5]], 'player2': [[1, 2], [3, 3]]}"
   ]
  },
  {
   "cell_type": "code",
   "execution_count": 83,
   "metadata": {},
   "outputs": [],
   "source": [
    "# solución de Nico"
   ]
  },
  {
   "cell_type": "code",
   "execution_count": null,
   "metadata": {},
   "outputs": [],
   "source": []
  },
  {
   "cell_type": "markdown",
   "metadata": {},
   "source": [
    "https://www.codewars.com/kata/55c45be3b2079eccff00010f"
   ]
  }
 ],
 "metadata": {
  "kernelspec": {
   "display_name": "Python [conda env:ironhack_env]",
   "language": "python",
   "name": "conda-env-ironhack_env-py"
  },
  "language_info": {
   "codemirror_mode": {
    "name": "ipython",
    "version": 3
   },
   "file_extension": ".py",
   "mimetype": "text/x-python",
   "name": "python",
   "nbconvert_exporter": "python",
   "pygments_lexer": "ipython3",
   "version": "3.8.5"
  }
 },
 "nbformat": 4,
 "nbformat_minor": 4
}
