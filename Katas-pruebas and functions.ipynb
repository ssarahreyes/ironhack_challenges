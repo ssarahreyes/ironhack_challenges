{
 "cells": [
  {
   "cell_type": "code",
   "execution_count": 62,
   "metadata": {},
   "outputs": [],
   "source": [
    "#Primer ejercicio en Codewars\n",
    "\n",
    "def olympic_ring(string):\n",
    "    one_ring = \"abcdegopqADDOPQR\"\n",
    "    two_rings = \"B\"\n",
    "    number_rings = 0\n",
    "    \n",
    "    # Count of the letters with ring.\n",
    "    for n in string:\n",
    "        if n in one_ring:\n",
    "            number_rings += 1\n",
    "            \n",
    "        if n in two_rings:\n",
    "            number_rings += 2\n",
    "            \n",
    "    #Medal, Bronze, Silver or Gold depending on number of rings.         \n",
    "    if (number_rings//2) <= 1:\n",
    "        return 'Not even a medal!'\n",
    "    \n",
    "    elif (number_rings//2) == 2:\n",
    "        return 'Bronze!'\n",
    "    \n",
    "    elif (number_rings//2) == 3:\n",
    "        return 'Silver!'\n",
    "    \n",
    "    elif (number_rings//2) > 3:\n",
    "        return \"Gold!\"\n"
   ]
  },
  {
   "cell_type": "code",
   "execution_count": 63,
   "metadata": {},
   "outputs": [
    {
     "data": {
      "text/plain": [
       "'Silver!'"
      ]
     },
     "execution_count": 63,
     "metadata": {},
     "output_type": "execute_result"
    }
   ],
   "source": [
    "olympic_ring(\"MTUfdnKaQUcmpvoMV\")"
   ]
  },
  {
   "cell_type": "code",
   "execution_count": 65,
   "metadata": {},
   "outputs": [],
   "source": [
    "import pandas as pd"
   ]
  },
  {
   "cell_type": "code",
   "execution_count": 67,
   "metadata": {},
   "outputs": [
    {
     "name": "stdout",
     "output_type": "stream",
     "text": [
      "2.34 µs ± 339 ns per loop (mean ± std. dev. of 7 runs, 100000 loops each)\n"
     ]
    }
   ],
   "source": [
    "%%timeit \n",
    "olympic_ring(\"MTUfdnKaQUcmpvoMV\")\n"
   ]
  },
  {
   "cell_type": "code",
   "execution_count": 101,
   "metadata": {},
   "outputs": [],
   "source": [
    "#Queremos una función que lo que tú le pases te lo concatene todo, independientemente de la longitud.\n",
    "#Primero creamos una función que admita varios argumentos.\n",
    "\n",
    "def conc_strings(m):\n",
    "    f = m + \"sara\"\n",
    "    return f"
   ]
  },
  {
   "cell_type": "code",
   "execution_count": 102,
   "metadata": {},
   "outputs": [
    {
     "data": {
      "text/plain": [
       "'holasara'"
      ]
     },
     "execution_count": 102,
     "metadata": {},
     "output_type": "execute_result"
    }
   ],
   "source": [
    "conc_strings(\"hola\")"
   ]
  },
  {
   "cell_type": "code",
   "execution_count": 105,
   "metadata": {},
   "outputs": [],
   "source": [
    "#Función con args. Que reciba un número de argumentos indeterminados y que los imprima.\n",
    "\n",
    "def arg_indet(*args):\n",
    "    for arg in args:\n",
    "        return args"
   ]
  },
  {
   "cell_type": "code",
   "execution_count": 106,
   "metadata": {},
   "outputs": [
    {
     "data": {
      "text/plain": [
       "('hola', 2, 'mesa', 4)"
      ]
     },
     "execution_count": 106,
     "metadata": {},
     "output_type": "execute_result"
    }
   ],
   "source": [
    "arg_indet(\"hola\", 2, \"mesa\", 4)"
   ]
  },
  {
   "cell_type": "code",
   "execution_count": 109,
   "metadata": {},
   "outputs": [],
   "source": [
    "#Función con args que añada en una lista el cuadradro de los argumentos.\n",
    "\n",
    "square = []\n",
    "\n",
    "def arg_indet(*args):\n",
    "    for arg in args:\n",
    "        square.append(arg**2)\n",
    "    return square"
   ]
  },
  {
   "cell_type": "code",
   "execution_count": 110,
   "metadata": {},
   "outputs": [
    {
     "data": {
      "text/plain": [
       "[4, 9, 16, 25]"
      ]
     },
     "execution_count": 110,
     "metadata": {},
     "output_type": "execute_result"
    }
   ],
   "source": [
    "arg_indet(2, 3, 4, 5)"
   ]
  },
  {
   "cell_type": "code",
   "execution_count": 118,
   "metadata": {},
   "outputs": [],
   "source": [
    "#Función con keyword arguments (kwargs)\n",
    "dictionary = {\"key\": \"value\"}\n",
    "def arg_inder_2(**kwargs):\n",
    "    for key,value in kwargs.items():\n",
    "        print(key, value)"
   ]
  },
  {
   "cell_type": "code",
   "execution_count": 119,
   "metadata": {},
   "outputs": [
    {
     "name": "stdout",
     "output_type": "stream",
     "text": [
      "número 2\n",
      "clase 3\n",
      "edificio 4\n"
     ]
    }
   ],
   "source": [
    "arg_inder_2(número=2, clase=3, edificio=4)"
   ]
  },
  {
   "cell_type": "code",
   "execution_count": null,
   "metadata": {},
   "outputs": [],
   "source": []
  }
 ],
 "metadata": {
  "kernelspec": {
   "display_name": "Python [conda env:ironhack_env]",
   "language": "python",
   "name": "conda-env-ironhack_env-py"
  },
  "language_info": {
   "codemirror_mode": {
    "name": "ipython",
    "version": 3
   },
   "file_extension": ".py",
   "mimetype": "text/x-python",
   "name": "python",
   "nbconvert_exporter": "python",
   "pygments_lexer": "ipython3",
   "version": "3.8.5"
  }
 },
 "nbformat": 4,
 "nbformat_minor": 4
}
