{
 "cells": [
  {
   "cell_type": "markdown",
   "metadata": {},
   "source": [
    "# KATA - Monday"
   ]
  },
  {
   "cell_type": "markdown",
   "metadata": {},
   "source": [
    "### Function Composition"
   ]
  },
  {
   "cell_type": "markdown",
   "metadata": {},
   "source": [
    "https://mathieularose.com/function-composition-in-python/#:~:text=Composing%20two%20functions,f(g(x))%20."
   ]
  },
  {
   "cell_type": "markdown",
   "metadata": {},
   "source": [
    "https://www.codewars.com/kata/525f3eda17c7cd9f9e000b39/train/python"
   ]
  },
  {
   "cell_type": "code",
   "execution_count": 31,
   "metadata": {},
   "outputs": [],
   "source": [
    "def zero(f = None): \n",
    "    return 0 if f is None else int(f(0))\n",
    "def one(f = None): \n",
    "    return 1 if f is None else int(f(1))\n",
    "def two(f = None): \n",
    "    return 2 if f is None else int(f(2))\n",
    "def three(f = None): \n",
    "    return 3 if f is None else int(f(3))\n",
    "def four(f = None): \n",
    "    return 4 if f is None else int(f(4))\n",
    "def five(f = None): \n",
    "    return 5 if f is None else int(f(5))\n",
    "def six(f = None): \n",
    "    return 6 if f is None else int(f(6))\n",
    "def seven(f = None): \n",
    "    return 7 if f is None else int(f(7))\n",
    "def eight(f = None): \n",
    "    return 8 if f is None else int(f(8))\n",
    "def nine(f = None): \n",
    "    return 9 if f is None else int(f(9))\n",
    "\n",
    "def plus(y): \n",
    "    return lambda x: x + y\n",
    "def minus(y):\n",
    "    return lambda x: x - y\n",
    "def times(y): \n",
    "    return lambda x: x * y\n",
    "def divided_by(y):\n",
    "    return lambda x: x / y"
   ]
  },
  {
   "cell_type": "code",
   "execution_count": 32,
   "metadata": {},
   "outputs": [
    {
     "data": {
      "text/plain": [
       "13.0"
      ]
     },
     "execution_count": 32,
     "metadata": {},
     "output_type": "execute_result"
    }
   ],
   "source": [
    "eight(plus(five())) # -> 15"
   ]
  },
  {
   "cell_type": "code",
   "execution_count": null,
   "metadata": {},
   "outputs": [],
   "source": []
  }
 ],
 "metadata": {
  "kernelspec": {
   "display_name": "Python [conda env:ironhack_env]",
   "language": "python",
   "name": "conda-env-ironhack_env-py"
  },
  "language_info": {
   "codemirror_mode": {
    "name": "ipython",
    "version": 3
   },
   "file_extension": ".py",
   "mimetype": "text/x-python",
   "name": "python",
   "nbconvert_exporter": "python",
   "pygments_lexer": "ipython3",
   "version": "3.8.5"
  }
 },
 "nbformat": 4,
 "nbformat_minor": 4
}
